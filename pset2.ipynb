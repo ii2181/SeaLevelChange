{
 "cells": [
  {
   "cell_type": "code",
   "execution_count": 1,
   "metadata": {},
   "outputs": [
    {
     "name": "stdout",
     "output_type": "stream",
     "text": [
      "# packages in environment at /Users/ingridizaguirre/opt/anaconda3/envs/sea_level_change:\n",
      "#\n",
      "# Name                    Version                   Build  Channel\n",
      "appnope                   0.1.0                    py37_0  \n",
      "astropy                   4.0                      pypi_0    pypi\n",
      "attrs                     19.3.0                     py_0  \n",
      "backcall                  0.1.0                    py37_0  \n",
      "basemap                   1.2.1            py37hd103db2_1    conda-forge\n",
      "bleach                    3.1.0                    py37_0  \n",
      "ca-certificates           2019.11.28           hecc5488_0    conda-forge\n",
      "certifi                   2019.11.28               py37_0    conda-forge\n",
      "cmocean                   2.0                        py_1    conda-forge\n",
      "colorspacious             1.1.2              pyh24bf2e0_0    conda-forge\n",
      "cycler                    0.10.0                     py_2    conda-forge\n",
      "decorator                 4.4.1                      py_0  \n",
      "defusedxml                0.6.0                      py_0  \n",
      "entrypoints               0.3                      py37_0  \n",
      "freetype                  2.10.0               h24853df_1    conda-forge\n",
      "geos                      3.7.2                h6de7cb9_2    conda-forge\n",
      "importlib_metadata        1.5.0                    py37_0  \n",
      "inflect                   4.1.0                    py37_0  \n",
      "ipykernel                 5.1.4            py37h39e3cac_0  \n",
      "ipython                   7.12.0           py37h5ca1d4c_0  \n",
      "ipython_genutils          0.2.0                    py37_0  \n",
      "jaraco.itertools          5.0.0                      py_0  \n",
      "jedi                      0.16.0                   py37_0  \n",
      "jinja2                    2.11.1                     py_0  \n",
      "json5                     0.9.0                      py_0  \n",
      "jsonschema                3.2.0                    py37_0  \n",
      "jupyter_client            5.3.4                    py37_0  \n",
      "jupyter_core              4.6.1                    py37_0  \n",
      "jupyterlab                1.2.5              pyhf63ae98_0  \n",
      "jupyterlab_server         1.0.6                      py_0  \n",
      "kiwisolver                1.1.0            py37h770b8ee_0    conda-forge\n",
      "libblas                   3.8.0               14_openblas    conda-forge\n",
      "libcblas                  3.8.0               14_openblas    conda-forge\n",
      "libcxx                    9.0.1                         1    conda-forge\n",
      "libcxxabi                 4.0.1                hcfea43d_1  \n",
      "libedit                   3.1.20181209         hb402a30_0  \n",
      "libffi                    3.2.1                h475c297_4  \n",
      "libgfortran               4.0.0                         2    conda-forge\n",
      "liblapack                 3.8.0               14_openblas    conda-forge\n",
      "libopenblas               0.3.7                h3d69b6c_7    conda-forge\n",
      "libpng                    1.6.37               h2573ce8_0    conda-forge\n",
      "libsodium                 1.0.16               h3efe00b_0  \n",
      "llvm-openmp               9.0.1                h28b9765_2    conda-forge\n",
      "markupsafe                1.1.1            py37h1de35cc_0  \n",
      "matplotlib                3.1.1            py37h54f8f79_0  \n",
      "matplotlib-base           3.1.1            py37h3a684a6_1    conda-forge\n",
      "mistune                   0.8.4            py37h1de35cc_0  \n",
      "more-itertools            8.2.0                      py_0  \n",
      "nbconvert                 5.6.1                    py37_0  \n",
      "nbformat                  5.0.4                      py_0  \n",
      "ncurses                   6.1                  h0a44026_1  \n",
      "notebook                  6.0.3                    py37_0  \n",
      "numpy                     1.17.2                   pypi_0    pypi\n",
      "openssl                   1.1.1d               h0b31af3_0    conda-forge\n",
      "pandas                    1.0.1            py37h4f17bb1_0    conda-forge\n",
      "pandoc                    2.2.3.2                       0  \n",
      "pandocfilters             1.4.2                    py37_1  \n",
      "parso                     0.6.0                      py_0  \n",
      "pexpect                   4.8.0                    py37_0  \n",
      "pickleshare               0.7.5                    py37_0  \n",
      "pip                       20.0.2                   py37_0  \n",
      "proj4                     5.2.0             h6de7cb9_1006    conda-forge\n",
      "prometheus_client         0.7.1                      py_0  \n",
      "prompt_toolkit            3.0.3                      py_0  \n",
      "ptyprocess                0.6.0                    py37_0  \n",
      "pygments                  2.5.2                      py_0  \n",
      "pyparsing                 2.4.6                      py_0    conda-forge\n",
      "pyproj                    1.9.6           py37h0b31af3_1002    conda-forge\n",
      "pyrsistent                0.15.7           py37h1de35cc_0  \n",
      "pyshp                     2.1.0                      py_0    conda-forge\n",
      "pyshtools                 4.5                      pypi_0    pypi\n",
      "python                    3.7.6                h359304d_2  \n",
      "python-dateutil           2.8.1                      py_0    conda-forge\n",
      "pytz                      2019.3                     py_0    conda-forge\n",
      "pyzmq                     18.1.1           py37h0a44026_0  \n",
      "readline                  7.0                  h1de35cc_5  \n",
      "scipy                     1.4.1            py37h82752d6_0    conda-forge\n",
      "send2trash                1.5.0                    py37_0  \n",
      "setuptools                45.1.0                   py37_0  \n",
      "six                       1.14.0                   py37_0    conda-forge\n",
      "sqlite                    3.30.1               ha441bb4_0  \n",
      "terminado                 0.8.3                    py37_0  \n",
      "testpath                  0.4.4                      py_0  \n",
      "tk                        8.6.8                ha441bb4_0  \n",
      "tornado                   6.0.3            py37h0b31af3_0    conda-forge\n",
      "traitlets                 4.3.3                    py37_0  \n",
      "viscm                     0.7                pyh24bf2e0_0    conda-forge\n",
      "wcwidth                   0.1.8                      py_0  \n",
      "webencodings              0.5.1                    py37_1  \n",
      "wheel                     0.33.6                   py37_0  \n",
      "xarray                    0.15.0                   pypi_0    pypi\n",
      "xlrd                      1.2.0                      py_0    conda-forge\n",
      "xz                        5.2.4                h1de35cc_4  \n",
      "zeromq                    4.3.1                h0a44026_3  \n",
      "zipp                      2.1.0                      py_0  \n",
      "zlib                      1.2.11               h1de35cc_3  \n",
      "\n",
      "Note: you may need to restart the kernel to use updated packages.\n"
     ]
    }
   ],
   "source": [
    "conda list "
   ]
  },
  {
   "cell_type": "code",
   "execution_count": 2,
   "metadata": {},
   "outputs": [
    {
     "name": "stdout",
     "output_type": "stream",
     "text": [
      "Requirement already up-to-date: numpy==1.17.2 in /Users/ingridizaguirre/opt/anaconda3/envs/sea_level_change/lib/python3.7/site-packages (1.17.2)\n",
      "Note: you may need to restart the kernel to use updated packages.\n"
     ]
    }
   ],
   "source": [
    "pip install --upgrade numpy==1.17.2"
   ]
  },
  {
   "cell_type": "code",
   "execution_count": 3,
   "metadata": {},
   "outputs": [
    {
     "name": "stdout",
     "output_type": "stream",
     "text": [
      "AP_depth_range.xlsx               etopo_ice_15.txt\r\n",
      "R1_basic_python_2020.docx         global_topography.py\r\n",
      "R2.1_linear_fit.py                pset1-Copy1.ipynb\r\n",
      "R2.2_linear_fit.py                pset1.ipynb\r\n",
      "R2.3_exp_fit.py                   pset2.ipynb\r\n",
      "Recap_sesh3.ipynb                 pset2.py\r\n",
      "\u001b[34mSHTOOLS-master\u001b[m\u001b[m/                   pyshtools_install.dms\r\n",
      "Untitled.ipynb                    regional_topo_analysis.py\r\n",
      "environment_sea_level_change.yml  sealvl-pset1.ipynb\r\n",
      "etopo_15.npy                      sh_topo_example.py\r\n",
      "etopo_15.txt                      \u001b[31mxyplot_part1.py\u001b[m\u001b[m*\r\n",
      "etopo_ice_15.npy                  \u001b[31mxyplot_part2.py\u001b[m\u001b[m*\r\n"
     ]
    }
   ],
   "source": [
    "ls"
   ]
  },
  {
   "cell_type": "code",
   "execution_count": 4,
   "metadata": {},
   "outputs": [
    {
     "name": "stdout",
     "output_type": "stream",
     "text": [
      "[Errno 2] No such file or directory: 'SeaLvl'\n",
      "/Users/ingridizaguirre/Documents/Lamont/Courses/Spring2020/SeaLvl/coding-python\n"
     ]
    }
   ],
   "source": [
    "cd SeaLvl"
   ]
  },
  {
   "cell_type": "code",
   "execution_count": 5,
   "metadata": {},
   "outputs": [
    {
     "name": "stdout",
     "output_type": "stream",
     "text": [
      "AP_depth_range.xlsx               etopo_ice_15.txt\r\n",
      "R1_basic_python_2020.docx         global_topography.py\r\n",
      "R2.1_linear_fit.py                pset1-Copy1.ipynb\r\n",
      "R2.2_linear_fit.py                pset1.ipynb\r\n",
      "R2.3_exp_fit.py                   pset2.ipynb\r\n",
      "Recap_sesh3.ipynb                 pset2.py\r\n",
      "\u001b[34mSHTOOLS-master\u001b[m\u001b[m/                   pyshtools_install.dms\r\n",
      "Untitled.ipynb                    regional_topo_analysis.py\r\n",
      "environment_sea_level_change.yml  sealvl-pset1.ipynb\r\n",
      "etopo_15.npy                      sh_topo_example.py\r\n",
      "etopo_15.txt                      \u001b[31mxyplot_part1.py\u001b[m\u001b[m*\r\n",
      "etopo_ice_15.npy                  \u001b[31mxyplot_part2.py\u001b[m\u001b[m*\r\n"
     ]
    }
   ],
   "source": [
    "ls"
   ]
  },
  {
   "cell_type": "code",
   "execution_count": 6,
   "metadata": {},
   "outputs": [
    {
     "name": "stdout",
     "output_type": "stream",
     "text": [
      "[Errno 2] No such file or directory: 'coding-python'\n",
      "/Users/ingridizaguirre/Documents/Lamont/Courses/Spring2020/SeaLvl/coding-python\n"
     ]
    }
   ],
   "source": [
    "cd coding-python"
   ]
  },
  {
   "cell_type": "code",
   "execution_count": 7,
   "metadata": {},
   "outputs": [],
   "source": [
    "import numpy as np\n",
    "import pandas as pd \n",
    "import matplotlib.pyplot as plt\n",
    "from pandas import ExcelWriter\n",
    "from pandas import ExcelFile\n"
   ]
  },
  {
   "cell_type": "code",
   "execution_count": 8,
   "metadata": {},
   "outputs": [
    {
     "name": "stdout",
     "output_type": "stream",
     "text": [
      "                         Data from Hibbert et al., 2017\n",
      "0     OBIS observations used for modern depth distri...\n",
      "1     Modern observational data with vertical precis...\n",
      "2                                            A. palmata\n",
      "3                                                  0.55\n",
      "4                                                  0.55\n",
      "...                                                 ...\n",
      "4758                                                 15\n",
      "4759                                               16.4\n",
      "4760                                                 19\n",
      "4761                                                 22\n",
      "4762                                                 22\n",
      "\n",
      "[4763 rows x 1 columns]\n"
     ]
    }
   ],
   "source": [
    "df = pd.read_excel('AP_depth_range.xlsx')\n",
    "print(df)"
   ]
  },
  {
   "cell_type": "code",
   "execution_count": 9,
   "metadata": {},
   "outputs": [
    {
     "data": {
      "text/html": [
       "<div>\n",
       "<style scoped>\n",
       "    .dataframe tbody tr th:only-of-type {\n",
       "        vertical-align: middle;\n",
       "    }\n",
       "\n",
       "    .dataframe tbody tr th {\n",
       "        vertical-align: top;\n",
       "    }\n",
       "\n",
       "    .dataframe thead th {\n",
       "        text-align: right;\n",
       "    }\n",
       "</style>\n",
       "<table border=\"1\" class=\"dataframe\">\n",
       "  <thead>\n",
       "    <tr style=\"text-align: right;\">\n",
       "      <th></th>\n",
       "      <th>Data from Hibbert et al., 2017</th>\n",
       "    </tr>\n",
       "  </thead>\n",
       "  <tbody>\n",
       "    <tr>\n",
       "      <th>0</th>\n",
       "      <td>OBIS observations used for modern depth distri...</td>\n",
       "    </tr>\n",
       "    <tr>\n",
       "      <th>1</th>\n",
       "      <td>Modern observational data with vertical precis...</td>\n",
       "    </tr>\n",
       "    <tr>\n",
       "      <th>2</th>\n",
       "      <td>A. palmata</td>\n",
       "    </tr>\n",
       "    <tr>\n",
       "      <th>3</th>\n",
       "      <td>0.55</td>\n",
       "    </tr>\n",
       "    <tr>\n",
       "      <th>4</th>\n",
       "      <td>0.55</td>\n",
       "    </tr>\n",
       "  </tbody>\n",
       "</table>\n",
       "</div>"
      ],
      "text/plain": [
       "                      Data from Hibbert et al., 2017\n",
       "0  OBIS observations used for modern depth distri...\n",
       "1  Modern observational data with vertical precis...\n",
       "2                                         A. palmata\n",
       "3                                               0.55\n",
       "4                                               0.55"
      ]
     },
     "execution_count": 9,
     "metadata": {},
     "output_type": "execute_result"
    }
   ],
   "source": [
    "df.head()"
   ]
  },
  {
   "cell_type": "code",
   "execution_count": 10,
   "metadata": {},
   "outputs": [
    {
     "data": {
      "text/html": [
       "<div>\n",
       "<style scoped>\n",
       "    .dataframe tbody tr th:only-of-type {\n",
       "        vertical-align: middle;\n",
       "    }\n",
       "\n",
       "    .dataframe tbody tr th {\n",
       "        vertical-align: top;\n",
       "    }\n",
       "\n",
       "    .dataframe thead th {\n",
       "        text-align: right;\n",
       "    }\n",
       "</style>\n",
       "<table border=\"1\" class=\"dataframe\">\n",
       "  <thead>\n",
       "    <tr style=\"text-align: right;\">\n",
       "      <th></th>\n",
       "      <th>Data from Hibbert et al., 2017</th>\n",
       "    </tr>\n",
       "  </thead>\n",
       "  <tbody>\n",
       "    <tr>\n",
       "      <th>3</th>\n",
       "      <td>0.55</td>\n",
       "    </tr>\n",
       "    <tr>\n",
       "      <th>4</th>\n",
       "      <td>0.55</td>\n",
       "    </tr>\n",
       "    <tr>\n",
       "      <th>5</th>\n",
       "      <td>0.55</td>\n",
       "    </tr>\n",
       "    <tr>\n",
       "      <th>6</th>\n",
       "      <td>0.55</td>\n",
       "    </tr>\n",
       "    <tr>\n",
       "      <th>7</th>\n",
       "      <td>0.55</td>\n",
       "    </tr>\n",
       "  </tbody>\n",
       "</table>\n",
       "</div>"
      ],
      "text/plain": [
       "  Data from Hibbert et al., 2017\n",
       "3                           0.55\n",
       "4                           0.55\n",
       "5                           0.55\n",
       "6                           0.55\n",
       "7                           0.55"
      ]
     },
     "execution_count": 10,
     "metadata": {},
     "output_type": "execute_result"
    }
   ],
   "source": [
    "sl = df.drop([0,1,2], axis=0)\n",
    "sl.head()"
   ]
  },
  {
   "cell_type": "code",
   "execution_count": 11,
   "metadata": {},
   "outputs": [
    {
     "data": {
      "text/html": [
       "<div>\n",
       "<style scoped>\n",
       "    .dataframe tbody tr th:only-of-type {\n",
       "        vertical-align: middle;\n",
       "    }\n",
       "\n",
       "    .dataframe tbody tr th {\n",
       "        vertical-align: top;\n",
       "    }\n",
       "\n",
       "    .dataframe thead th {\n",
       "        text-align: right;\n",
       "    }\n",
       "</style>\n",
       "<table border=\"1\" class=\"dataframe\">\n",
       "  <thead>\n",
       "    <tr style=\"text-align: right;\">\n",
       "      <th></th>\n",
       "      <th>a.palmata</th>\n",
       "    </tr>\n",
       "  </thead>\n",
       "  <tbody>\n",
       "    <tr>\n",
       "      <th>3</th>\n",
       "      <td>0.55</td>\n",
       "    </tr>\n",
       "    <tr>\n",
       "      <th>4</th>\n",
       "      <td>0.55</td>\n",
       "    </tr>\n",
       "    <tr>\n",
       "      <th>5</th>\n",
       "      <td>0.55</td>\n",
       "    </tr>\n",
       "    <tr>\n",
       "      <th>6</th>\n",
       "      <td>0.55</td>\n",
       "    </tr>\n",
       "    <tr>\n",
       "      <th>7</th>\n",
       "      <td>0.55</td>\n",
       "    </tr>\n",
       "  </tbody>\n",
       "</table>\n",
       "</div>"
      ],
      "text/plain": [
       "  a.palmata\n",
       "3      0.55\n",
       "4      0.55\n",
       "5      0.55\n",
       "6      0.55\n",
       "7      0.55"
      ]
     },
     "execution_count": 11,
     "metadata": {},
     "output_type": "execute_result"
    }
   ],
   "source": [
    "sl.rename(columns={'Data from Hibbert et al., 2017':'a.palmata'}, inplace=True)\n",
    "sl.head()"
   ]
  },
  {
   "cell_type": "code",
   "execution_count": 12,
   "metadata": {},
   "outputs": [
    {
     "name": "stdout",
     "output_type": "stream",
     "text": [
      "<class 'pandas.core.frame.DataFrame'>\n"
     ]
    }
   ],
   "source": [
    "print(type(sl))"
   ]
  },
  {
   "cell_type": "markdown",
   "metadata": {},
   "source": [
    "## 1a. Histogram of modern A. Palmata depths"
   ]
  },
  {
   "cell_type": "code",
   "execution_count": 13,
   "metadata": {},
   "outputs": [
    {
     "data": {
      "image/png": "[encoded data removed]",
      "text/plain": [
       "<Figure size 432x288 with 1 Axes>"
      ]
     },
     "metadata": {
      "needs_background": "light"
     },
     "output_type": "display_data"
    }
   ],
   "source": [
    "hist = sl.plot(kind='hist', color='g')"
   ]
  },
  {
   "cell_type": "markdown",
   "metadata": {},
   "source": [
    "## relative water level & indicative range for Acropora Palmata\n",
    "RWL is the avg distance between sea level indicator and mean sea level --> can be approximated as the mean "
   ]
  },
  {
   "cell_type": "markdown",
   "metadata": {},
   "source": [
    "IR is the vertical range over which indicator occurs --> can be approaximated as the standard deviation "
   ]
  },
  {
   "cell_type": "code",
   "execution_count": 14,
   "metadata": {},
   "outputs": [
    {
     "data": {
      "text/plain": [
       "a.palmata    2.17292\n",
       "dtype: float64"
      ]
     },
     "execution_count": 14,
     "metadata": {},
     "output_type": "execute_result"
    }
   ],
   "source": [
    "rwl = np.mean(sl)\n",
    "rwl"
   ]
  },
  {
   "cell_type": "code",
   "execution_count": 15,
   "metadata": {},
   "outputs": [
    {
     "data": {
      "text/plain": [
       "a.palmata    2.169241\n",
       "dtype: float64"
      ]
     },
     "execution_count": 15,
     "metadata": {},
     "output_type": "execute_result"
    }
   ],
   "source": [
    "ir = np.std(sl)\n",
    "ir"
   ]
  },
  {
   "cell_type": "markdown",
   "metadata": {},
   "source": [
    "## 1b. RWL = 2.17292 m,  IR = 2.169241 m "
   ]
  },
  {
   "cell_type": "markdown",
   "metadata": {},
   "source": [
    "## RSL in Bahamas during Last Interglacial \n",
    "top of the coral = 3.2 m "
   ]
  },
  {
   "cell_type": "markdown",
   "metadata": {},
   "source": [
    "measurement precision = 50 cm "
   ]
  },
  {
   "cell_type": "markdown",
   "metadata": {},
   "source": [
    "RSL = [elevation of SL indicator] - [RWL]"
   ]
  },
  {
   "cell_type": "code",
   "execution_count": 16,
   "metadata": {},
   "outputs": [
    {
     "name": "stdout",
     "output_type": "stream",
     "text": [
      "a.palmata    5.37292\n",
      "dtype: float64\n"
     ]
    }
   ],
   "source": [
    "elev = 3.2 \n",
    "\n",
    "rsl = elev + rwl \n",
    "print(rsl)"
   ]
  },
  {
   "cell_type": "markdown",
   "metadata": {},
   "source": [
    " ## RSL = 5.37292"
   ]
  },
  {
   "cell_type": "code",
   "execution_count": 17,
   "metadata": {
    "scrolled": true
   },
   "outputs": [
    {
     "name": "stdout",
     "output_type": "stream",
     "text": [
      "AP_depth_range.xlsx               etopo_ice_15.txt\r\n",
      "R1_basic_python_2020.docx         global_topography.py\r\n",
      "R2.1_linear_fit.py                pset1-Copy1.ipynb\r\n",
      "R2.2_linear_fit.py                pset1.ipynb\r\n",
      "R2.3_exp_fit.py                   pset2.ipynb\r\n",
      "Recap_sesh3.ipynb                 pset2.py\r\n",
      "\u001b[34mSHTOOLS-master\u001b[m\u001b[m/                   pyshtools_install.dms\r\n",
      "Untitled.ipynb                    regional_topo_analysis.py\r\n",
      "environment_sea_level_change.yml  sealvl-pset1.ipynb\r\n",
      "etopo_15.npy                      sh_topo_example.py\r\n",
      "etopo_15.txt                      \u001b[31mxyplot_part1.py\u001b[m\u001b[m*\r\n",
      "etopo_ice_15.npy                  \u001b[31mxyplot_part2.py\u001b[m\u001b[m*\r\n"
     ]
    }
   ],
   "source": [
    "ls"
   ]
  },
  {
   "cell_type": "markdown",
   "metadata": {},
   "source": [
    "## For 2) See excel file pset2_Q2Izaguirre "
   ]
  },
  {
   "cell_type": "code",
   "execution_count": 18,
   "metadata": {},
   "outputs": [
    {
     "name": "stdout",
     "output_type": "stream",
     "text": [
      "/Users/ingridizaguirre/Documents/Lamont/Courses/Spring2020/SeaLvl\n"
     ]
    }
   ],
   "source": [
    "cd .. "
   ]
  },
  {
   "cell_type": "code",
   "execution_count": 19,
   "metadata": {
    "scrolled": true
   },
   "outputs": [
    {
     "name": "stdout",
     "output_type": "stream",
     "text": [
      "01.30.20_notes.pdf                pset2_Q2.xlsx\r\n",
      "Greensfunction_forfinalproj.pptx  pset2_Q2Izaguirre.xlsx\r\n",
      "S1_Moucha2008.pdf                 pset2_Q3.xlsx\r\n",
      "S2_Shakun2015.pdf                 pset2_Q4.csv\r\n",
      "\u001b[34mcoding-python\u001b[m\u001b[m/                    pset2_Q4.xlsx\r\n",
      "fourier function.pptx             pset2_Q4_txt.csv\r\n",
      "pset2_Izaguirre.xlsx\r\n"
     ]
    }
   ],
   "source": [
    "ls"
   ]
  },
  {
   "cell_type": "markdown",
   "metadata": {},
   "source": [
    "## 3. Earth's viscosity "
   ]
  },
  {
   "cell_type": "code",
   "execution_count": 20,
   "metadata": {},
   "outputs": [],
   "source": [
    "from scipy.optimize import curve_fit \n",
    "import numpy as np\n",
    "from matplotlib import pyplot as plt\n",
    "import scipy.optimize as opt"
   ]
  },
  {
   "cell_type": "code",
   "execution_count": 21,
   "metadata": {},
   "outputs": [],
   "source": [
    "age = np.array([0,1790,2030,2760,3360,6000,6230,6430])\n",
    "height = np.array([0,22,29,44,58,137,154,172])\n",
    "\n",
    "x = age\n",
    "y = height"
   ]
  },
  {
   "cell_type": "code",
   "execution_count": 22,
   "metadata": {},
   "outputs": [],
   "source": [
    "def func(x,a,b):\n",
    "    return a * np.exp(b*x) - a "
   ]
  },
  {
   "cell_type": "code",
   "execution_count": 23,
   "metadata": {},
   "outputs": [],
   "source": [
    "popt, pcov = curve_fit(func, x, y, p0=(1,1E-6))"
   ]
  },
  {
   "cell_type": "code",
   "execution_count": 24,
   "metadata": {},
   "outputs": [
    {
     "data": {
      "text/plain": [
       "Text(0, 0.5, 'elevation (m)')"
      ]
     },
     "execution_count": 24,
     "metadata": {},
     "output_type": "execute_result"
    },
    {
     "data": {
      "image/png": "[encoded data removed]",
      "text/plain": [
       "<Figure size 432x288 with 1 Axes>"
      ]
     },
     "metadata": {
      "needs_background": "light"
     },
     "output_type": "display_data"
    }
   ],
   "source": [
    "plt.plot(x, func(x,*popt), 'b--', label='Exp fit')\n",
    "plt.plot(age,height,'ok', label='SL curve')\n",
    "plt.legend()\n",
    "plt.xlabel('time (yrs)')\n",
    "plt.ylabel('elevation (m)')"
   ]
  },
  {
   "cell_type": "markdown",
   "metadata": {},
   "source": [
    "## b) Use decay time to estimate the avg mantle viscosity (n) below Canada\n",
    "\n",
    "k = 10^11 N/m^2\n",
    "\n",
    "P_m = 3000 kg/m^3\n",
    "\n",
    "L = 1200 km --> 1,200,000 m \n",
    "\n",
    "g = 6.67*10^−11 m^3/kg s^2\n",
    "\n",
    "T = decay constant \n",
    "\n",
    "Find viscosity and then find over what depth in the mantle that viscosity average applies. \n",
    "\n",
    "decay constant (T) = (a * n)/(g * P_m * k * L)\n",
    "\n",
    "where (alpha) a = k + P_m * g * L "
   ]
  },
  {
   "cell_type": "code",
   "execution_count": 25,
   "metadata": {},
   "outputs": [
    {
     "name": "stdout",
     "output_type": "stream",
     "text": [
      "4168.3948828960465\n",
      "avg mantle viscosity below Canada = 416839488272245.0\n"
     ]
    }
   ],
   "source": [
    "k = 1E+11\n",
    "P_m = 3000\n",
    "L = 1200000 \n",
    "g = 6.67*(1E+11)\n",
    "T = 1/popt[1]\n",
    "print(T)\n",
    "\n",
    "a = k + (P_m*g*L)\n",
    "#print(a)\n",
    "\n",
    "# next calculate viscosity --> n = (T*g*P_m*k*L)/[k+(P_m*g*L)]\n",
    "b = T*g*P_m*k*L\n",
    "#print(b)\n",
    "\n",
    "n = b/a\n",
    "print('avg mantle viscosity below Canada =', n)"
   ]
  },
  {
   "cell_type": "markdown",
   "metadata": {},
   "source": [
    "This average viscosity value should apply within the depth range of 0-1200 m "
   ]
  },
  {
   "cell_type": "markdown",
   "metadata": {},
   "source": [
    "## 4. Earth's Maxwell Time \n",
    "\n",
    "a)\n",
    "constitutive equation = 1/n * stress + 1/k * stress(first derivative)\n",
    "\n",
    "where n = viscosity and k = spring constant \n",
    "\n",
    "To assess strain over time the following equation can be used:\n",
    "                            e(t) = A + Be^ct\n",
    "where A=elastic displacement, B=max viscous response, e=strain, and t=time\n",
    "\n",
    "@ t 0, there is an instanteous elastic response in which strain = A or 1/n*stress"
   ]
  },
  {
   "cell_type": "markdown",
   "metadata": {},
   "source": [
    "b) draw a diagram of strain (y-axis) as a function of time (x-axis), marking the viscous and elastic portions"
   ]
  },
  {
   "cell_type": "code",
   "execution_count": 26,
   "metadata": {},
   "outputs": [
    {
     "data": {
      "text/plain": [
       "Text(0, 0.5, 'strain')"
      ]
     },
     "execution_count": 26,
     "metadata": {},
     "output_type": "execute_result"
    },
    {
     "data": {
      "image/png": "[encoded data removed]",
      "text/plain": [
       "<Figure size 432x288 with 1 Axes>"
      ]
     },
     "metadata": {
      "needs_background": "light"
     },
     "output_type": "display_data"
    }
   ],
   "source": [
    "data = pd.read_excel('pset2_Q4.xlsx')\n",
    "plt.plot(data.time, data.strain)\n",
    "plt.xlabel('time')\n",
    "plt.ylabel('strain')"
   ]
  },
  {
   "cell_type": "markdown",
   "metadata": {},
   "source": [
    "In the graph above, the elastic strain ranges from (0,0) to (0,3) and the viscous strain ranges from (0.15,4) to (10, 12.5)"
   ]
  },
  {
   "cell_type": "markdown",
   "metadata": {},
   "source": [
    "c) As a function of time, the elastic strain (being instantaneous) can be defined as e_elastic(t) = 1/n * stress \n",
    "\n",
    "The viscous strain through time can be expressed as \n",
    "e_viscous(t) = A + Be^ct or A + B(1-e^-ct)\n",
    "\n",
    "t_m = Maxwell time = time after which 1/2 of the deformation comes from elastic strain and 1/2 comes from viscous strain. On the graph above t_m is the point of transition where time no longer equals 0 (and is past the instantaneous elastic response period)\n",
    "\n",
    "Find t_m given...\n",
    "Young's modulus (k) = 10^11 N/m^2\n",
    "Viscosity (n) = 10^21 Pa*s\n",
    "\n",
    "t_m = n/k"
   ]
  },
  {
   "cell_type": "code",
   "execution_count": 27,
   "metadata": {},
   "outputs": [
    {
     "name": "stdout",
     "output_type": "stream",
     "text": [
      "maxwell relaxation time = 10000000000.0\n"
     ]
    }
   ],
   "source": [
    "n = 1E+21\n",
    "k = 1E+11\n",
    "\n",
    "t_m = n/k\n",
    "print('maxwell relaxation time =', t_m)"
   ]
  },
  {
   "cell_type": "markdown",
   "metadata": {},
   "source": [
    "## 5. Using Spherical Harmonics"
   ]
  },
  {
   "cell_type": "code",
   "execution_count": 28,
   "metadata": {},
   "outputs": [
    {
     "name": "stdout",
     "output_type": "stream",
     "text": [
      "01.30.20_notes.pdf                pset2_Q2.xlsx\r\n",
      "Greensfunction_forfinalproj.pptx  pset2_Q2Izaguirre.xlsx\r\n",
      "S1_Moucha2008.pdf                 pset2_Q3.xlsx\r\n",
      "S2_Shakun2015.pdf                 pset2_Q4.csv\r\n",
      "\u001b[34mcoding-python\u001b[m\u001b[m/                    pset2_Q4.xlsx\r\n",
      "fourier function.pptx             pset2_Q4_txt.csv\r\n",
      "pset2_Izaguirre.xlsx\r\n"
     ]
    }
   ],
   "source": [
    "ls\n"
   ]
  },
  {
   "cell_type": "code",
   "execution_count": 29,
   "metadata": {},
   "outputs": [
    {
     "name": "stdout",
     "output_type": "stream",
     "text": [
      "/Users/ingridizaguirre/Documents/Lamont/Courses/Spring2020/SeaLvl/coding-python\n"
     ]
    }
   ],
   "source": [
    "cd coding-python"
   ]
  },
  {
   "cell_type": "code",
   "execution_count": 30,
   "metadata": {},
   "outputs": [
    {
     "name": "stdout",
     "output_type": "stream",
     "text": [
      "AP_depth_range.xlsx               etopo_ice_15.txt\r\n",
      "R1_basic_python_2020.docx         global_topography.py\r\n",
      "R2.1_linear_fit.py                pset1-Copy1.ipynb\r\n",
      "R2.2_linear_fit.py                pset1.ipynb\r\n",
      "R2.3_exp_fit.py                   pset2.ipynb\r\n",
      "Recap_sesh3.ipynb                 pset2.py\r\n",
      "\u001b[34mSHTOOLS-master\u001b[m\u001b[m/                   pyshtools_install.dms\r\n",
      "Untitled.ipynb                    regional_topo_analysis.py\r\n",
      "environment_sea_level_change.yml  sealvl-pset1.ipynb\r\n",
      "etopo_15.npy                      sh_topo_example.py\r\n",
      "etopo_15.txt                      \u001b[31mxyplot_part1.py\u001b[m\u001b[m*\r\n",
      "etopo_ice_15.npy                  \u001b[31mxyplot_part2.py\u001b[m\u001b[m*\r\n"
     ]
    }
   ],
   "source": [
    "ls"
   ]
  },
  {
   "cell_type": "code",
   "execution_count": 31,
   "metadata": {},
   "outputs": [],
   "source": [
    "import os\n",
    "os.environ['PROJ_LIB'] = '/Users/ingridizaguirre/opt/anaconda3/pkgs/proj4-5.2.0-h6de7cb9_1006/share/proj'\n",
    "\n",
    "import matplotlib.pyplot as plt\n",
    "from scipy import interpolate as interp\n",
    "import pyshtools\n",
    "from pathlib import Path\n",
    "\n",
    "from mpl_toolkits.basemap import Basemap\n",
    "from matplotlib import path\n",
    "import numpy as np\n",
    "import matplotlib.pyplot as plt\n",
    "import cmocean\n",
    "\n",
    "\n",
    "#In this example we take the spherical harmonic transform of etopo\n",
    "#then the inverse spherical harmonic transform and compare the results\n",
    "#\n",
    "\n",
    "\n",
    "lmax=256 #Our maximum degree used in the SH transform\n",
    "lreturn=64 #The maximum degree we truncate to for the inverse SH transform\n",
    "\n",
    "#################### LOAD DATA\n",
    "etopo = np.load('etopo_15.npy')\n",
    "etopo1 = np.loadtxt('etopo_ice_15.txt') #lon, lat, topography"
   ]
  },
  {
   "cell_type": "code",
   "execution_count": 32,
   "metadata": {},
   "outputs": [
    {
     "data": {
      "text/html": [
       "<div>\n",
       "<style scoped>\n",
       "    .dataframe tbody tr th:only-of-type {\n",
       "        vertical-align: middle;\n",
       "    }\n",
       "\n",
       "    .dataframe tbody tr th {\n",
       "        vertical-align: top;\n",
       "    }\n",
       "\n",
       "    .dataframe thead th {\n",
       "        text-align: right;\n",
       "    }\n",
       "</style>\n",
       "<table border=\"1\" class=\"dataframe\">\n",
       "  <thead>\n",
       "    <tr style=\"text-align: right;\">\n",
       "      <th></th>\n",
       "      <th>0</th>\n",
       "      <th>1</th>\n",
       "      <th>2</th>\n",
       "    </tr>\n",
       "  </thead>\n",
       "  <tbody>\n",
       "    <tr>\n",
       "      <th>0</th>\n",
       "      <td>0.12</td>\n",
       "      <td>-89.88</td>\n",
       "      <td>18.0</td>\n",
       "    </tr>\n",
       "    <tr>\n",
       "      <th>1</th>\n",
       "      <td>0.12</td>\n",
       "      <td>-89.62</td>\n",
       "      <td>-77.0</td>\n",
       "    </tr>\n",
       "    <tr>\n",
       "      <th>2</th>\n",
       "      <td>0.12</td>\n",
       "      <td>-89.38</td>\n",
       "      <td>-190.0</td>\n",
       "    </tr>\n",
       "    <tr>\n",
       "      <th>3</th>\n",
       "      <td>0.12</td>\n",
       "      <td>-89.12</td>\n",
       "      <td>-232.0</td>\n",
       "    </tr>\n",
       "    <tr>\n",
       "      <th>4</th>\n",
       "      <td>0.12</td>\n",
       "      <td>-88.88</td>\n",
       "      <td>7.0</td>\n",
       "    </tr>\n",
       "  </tbody>\n",
       "</table>\n",
       "</div>"
      ],
      "text/plain": [
       "      0      1      2\n",
       "0  0.12 -89.88   18.0\n",
       "1  0.12 -89.62  -77.0\n",
       "2  0.12 -89.38 -190.0\n",
       "3  0.12 -89.12 -232.0\n",
       "4  0.12 -88.88    7.0"
      ]
     },
     "execution_count": 32,
     "metadata": {},
     "output_type": "execute_result"
    }
   ],
   "source": [
    "df = pd.DataFrame(etopo) \n",
    "df.head()"
   ]
  },
  {
   "cell_type": "code",
   "execution_count": 33,
   "metadata": {},
   "outputs": [
    {
     "name": "stdout",
     "output_type": "stream",
     "text": [
      "0             NaN\n",
      "1           -77.0\n",
      "2          -190.0\n",
      "3          -232.0\n",
      "4             NaN\n",
      "            ...  \n",
      "1036795   -4266.0\n",
      "1036796   -4251.0\n",
      "1036797   -4160.0\n",
      "1036798   -4151.0\n",
      "1036799   -4163.0\n",
      "Name: 2, Length: 1036800, dtype: float64\n",
      "0          18.0\n",
      "1           NaN\n",
      "2           NaN\n",
      "3           NaN\n",
      "4           7.0\n",
      "           ... \n",
      "1036795     NaN\n",
      "1036796     NaN\n",
      "1036797     NaN\n",
      "1036798     NaN\n",
      "1036799     NaN\n",
      "Name: 2, Length: 1036800, dtype: float64\n"
     ]
    }
   ],
   "source": [
    "\n",
    "oc = df.loc[:,2].where(df.loc[:,2] < 0)\n",
    "land = df.loc[:,2].where(df.loc[:,2] > 0)\n",
    "print(oc)\n",
    "print(land)\n"
   ]
  },
  {
   "cell_type": "code",
   "execution_count": 34,
   "metadata": {},
   "outputs": [
    {
     "name": "stdout",
     "output_type": "stream",
     "text": [
      "0             0.0\n",
      "1           -77.0\n",
      "2          -190.0\n",
      "3          -232.0\n",
      "4             0.0\n",
      "            ...  \n",
      "1036795   -4266.0\n",
      "1036796   -4251.0\n",
      "1036797   -4160.0\n",
      "1036798   -4151.0\n",
      "1036799   -4163.0\n",
      "Name: 2, Length: 1036800, dtype: float64\n"
     ]
    }
   ],
   "source": [
    "mean_oc_dpt = oc.fillna(0)\n",
    "print(mean_oc_dpt)"
   ]
  },
  {
   "cell_type": "code",
   "execution_count": 35,
   "metadata": {},
   "outputs": [
    {
     "name": "stdout",
     "output_type": "stream",
     "text": [
      "0          0.0\n",
      "1          1.0\n",
      "2          1.0\n",
      "3          1.0\n",
      "4          0.0\n",
      "          ... \n",
      "1036795    1.0\n",
      "1036796    1.0\n",
      "1036797    1.0\n",
      "1036798    1.0\n",
      "1036799    1.0\n",
      "Name: 2, Length: 1036800, dtype: float64\n"
     ]
    }
   ],
   "source": [
    "oc[oc < 0] = 1\n",
    "oc_func = oc.fillna(0)\n",
    "print(oc_func)\n",
    "\n"
   ]
  },
  {
   "cell_type": "code",
   "execution_count": 36,
   "metadata": {},
   "outputs": [
    {
     "data": {
      "text/html": [
       "<div>\n",
       "<style scoped>\n",
       "    .dataframe tbody tr th:only-of-type {\n",
       "        vertical-align: middle;\n",
       "    }\n",
       "\n",
       "    .dataframe tbody tr th {\n",
       "        vertical-align: top;\n",
       "    }\n",
       "\n",
       "    .dataframe thead th {\n",
       "        text-align: right;\n",
       "    }\n",
       "</style>\n",
       "<table border=\"1\" class=\"dataframe\">\n",
       "  <thead>\n",
       "    <tr style=\"text-align: right;\">\n",
       "      <th></th>\n",
       "      <th>0</th>\n",
       "      <th>1</th>\n",
       "      <th>2</th>\n",
       "      <th>3</th>\n",
       "      <th>4</th>\n",
       "    </tr>\n",
       "  </thead>\n",
       "  <tbody>\n",
       "    <tr>\n",
       "      <th>0</th>\n",
       "      <td>0.12</td>\n",
       "      <td>-89.88</td>\n",
       "      <td>18.0</td>\n",
       "      <td>0.0</td>\n",
       "      <td>0.0</td>\n",
       "    </tr>\n",
       "    <tr>\n",
       "      <th>1</th>\n",
       "      <td>0.12</td>\n",
       "      <td>-89.62</td>\n",
       "      <td>-77.0</td>\n",
       "      <td>1.0</td>\n",
       "      <td>-77.0</td>\n",
       "    </tr>\n",
       "    <tr>\n",
       "      <th>2</th>\n",
       "      <td>0.12</td>\n",
       "      <td>-89.38</td>\n",
       "      <td>-190.0</td>\n",
       "      <td>1.0</td>\n",
       "      <td>-190.0</td>\n",
       "    </tr>\n",
       "    <tr>\n",
       "      <th>3</th>\n",
       "      <td>0.12</td>\n",
       "      <td>-89.12</td>\n",
       "      <td>-232.0</td>\n",
       "      <td>1.0</td>\n",
       "      <td>-232.0</td>\n",
       "    </tr>\n",
       "    <tr>\n",
       "      <th>4</th>\n",
       "      <td>0.12</td>\n",
       "      <td>-88.88</td>\n",
       "      <td>7.0</td>\n",
       "      <td>0.0</td>\n",
       "      <td>0.0</td>\n",
       "    </tr>\n",
       "  </tbody>\n",
       "</table>\n",
       "</div>"
      ],
      "text/plain": [
       "      0      1      2    3      4\n",
       "0  0.12 -89.88   18.0  0.0    0.0\n",
       "1  0.12 -89.62  -77.0  1.0  -77.0\n",
       "2  0.12 -89.38 -190.0  1.0 -190.0\n",
       "3  0.12 -89.12 -232.0  1.0 -232.0\n",
       "4  0.12 -88.88    7.0  0.0    0.0"
      ]
     },
     "execution_count": 36,
     "metadata": {},
     "output_type": "execute_result"
    }
   ],
   "source": [
    "df['3'] = oc_func\n",
    "df['4'] = mean_oc_dpt\n",
    "df.head()"
   ]
  },
  {
   "cell_type": "code",
   "execution_count": 37,
   "metadata": {},
   "outputs": [
    {
     "name": "stdout",
     "output_type": "stream",
     "text": [
      "[[ 1.2000e-01 -8.9880e+01  1.8000e+01  0.0000e+00  0.0000e+00]\n",
      " [ 1.2000e-01 -8.9620e+01 -7.7000e+01  1.0000e+00 -7.7000e+01]\n",
      " [ 1.2000e-01 -8.9380e+01 -1.9000e+02  1.0000e+00 -1.9000e+02]\n",
      " ...\n",
      " [ 3.5988e+02  8.9380e+01 -4.1600e+03  1.0000e+00 -4.1600e+03]\n",
      " [ 3.5988e+02  8.9620e+01 -4.1510e+03  1.0000e+00 -4.1510e+03]\n",
      " [ 3.5988e+02  8.9880e+01 -4.1630e+03  1.0000e+00 -4.1630e+03]]\n"
     ]
    }
   ],
   "source": [
    "sh_data = df.to_numpy()\n",
    "print(sh_data)"
   ]
  },
  {
   "cell_type": "code",
   "execution_count": 38,
   "metadata": {},
   "outputs": [
    {
     "name": "stdout",
     "output_type": "stream",
     "text": [
      "[[0. 0. 0. ... 0. 0. 0.]\n",
      " [1. 1. 1. ... 1. 1. 1.]\n",
      " [1. 1. 1. ... 1. 1. 1.]\n",
      " ...\n",
      " [1. 1. 1. ... 1. 1. 1.]\n",
      " [1. 1. 1. ... 1. 1. 1.]\n",
      " [1. 1. 1. ... 1. 1. 1.]]\n"
     ]
    }
   ],
   "source": [
    "\n",
    "\n",
    "lmax=256 #Our maximum degree used in the SH transform\n",
    "lreturn=64 #The maximum degree we truncate to for the inverse SH transform\n",
    "\n",
    "num1 = np.unique(sh_data[:,0]).size\n",
    "num2 = np.unique(sh_data[:,1]).size\n",
    "\n",
    "lon2 = np.reshape(sh_data[:,0],(num1,num2)).T\n",
    "lat2 = np.reshape(sh_data[:,1],(num1,num2)).T\n",
    "topo2 = np.reshape(sh_data[:,3],(num1,num2)).T\n",
    "\n",
    "topo_interp = interp.interp2d(lon2[1,:],lat2[:,1],topo2)\n",
    "\n",
    "print(topo2)"
   ]
  },
  {
   "cell_type": "code",
   "execution_count": 39,
   "metadata": {},
   "outputs": [
    {
     "name": "stdout",
     "output_type": "stream",
     "text": [
      "[[1.         1.         1.         ... 1.         1.         1.        ]\n",
      " [0.         0.         0.         ... 0.58361494 0.58361494 0.58361494]\n",
      " [0.         0.         0.         ... 0.         0.         0.        ]\n",
      " ...\n",
      " [1.         1.         1.         ... 1.         1.         1.        ]\n",
      " [1.         1.         1.         ... 1.         1.         1.        ]\n",
      " [1.         1.         1.         ... 1.         1.         1.        ]]\n"
     ]
    }
   ],
   "source": [
    "#print(\"Generating GLQ grid ...\")\n",
    "latglq, longlq = pyshtools.expand.GLQGridCoord(lmax) #too stay consistent with matlab\n",
    "longlq2,latglq2 = np.meshgrid(longlq,np.sort(latglq)) #latglq should be in assending order\n",
    "\n",
    "############## Interplate data onto grid\n",
    "#print(\"Interpolating data onto GLQ grid ...\")\n",
    "topoglq2 = topo_interp(longlq,latglq)\n",
    "\n",
    "############## Spherical harmonic transform\n",
    "#print(\"Performing SH transform ...\")\n",
    "zero, w = pyshtools.expand.SHGLQ(lmax)\n",
    "cilm = pyshtools.expand.SHExpandGLQC(topoglq2,w,zero,norm=1,csphase=1,lmax_calc=lmax)\n",
    "\n",
    "############## Inverse Spherical harmonic transform\n",
    "#print(\"Taking the inverse SH transform ...\")\n",
    "gridglq = pyshtools.expand.MakeGridGLQC(cilm,zero,lmax=lmax,norm=1,csphase=1,lmax_calc=lreturn)\n",
    "\n",
    "print(topoglq2)"
   ]
  },
  {
   "cell_type": "code",
   "execution_count": 46,
   "metadata": {},
   "outputs": [
    {
     "data": {
      "image/png": "[encoded data removed]",
      "text/plain": [
       "<Figure size 864x432 with 2 Axes>"
      ]
     },
     "metadata": {
      "needs_background": "light"
     },
     "output_type": "display_data"
    }
   ],
   "source": [
    "f1 = plt.figure(figsize=(12,6))\n",
    "m1 = Basemap(projection='robin',lon_0=0,resolution='c')\n",
    "m1.drawcoastlines()\n",
    "m1.drawparallels(np.arange(-90.,120.,30.), labels=[True,False,False,False])\n",
    "m1.drawmeridians(np.arange(0.,360.,60.), labels=[False,False,False,True])\n",
    "m1.pcolormesh(longlq2,latglq2,topoglq2,shading='gouraud',cmap = cmocean.cm.algae,latlon=True)\n",
    "\n",
    "plt.clim(-6000,6000)\n",
    "\n",
    "cb = plt.colorbar().set_label(label='Surface Topography (m)',size=15,weight='bold')\n",
    "plt.clim(0, 1)\n",
    "#plt.title('etopo at SH degree ' + str(lmax))"
   ]
  },
  {
   "cell_type": "code",
   "execution_count": 41,
   "metadata": {},
   "outputs": [
    {
     "name": "stdout",
     "output_type": "stream",
     "text": [
      "[-0.02410634+0.j  0.        +0.j]\n",
      "Global Average of the Ocean Function using spherical harmonics =  (-0.0241063434696551+0j)\n"
     ]
    }
   ],
   "source": [
    "cmoc = cilm[:,3]\n",
    "#print(cmoc)\n",
    "cmoc_1 = cmoc[:,0]\n",
    "print(cmoc_1)\n",
    "print('Global Average of the Ocean Function using spherical harmonics = ', cmoc_1[0])"
   ]
  },
  {
   "cell_type": "code",
   "execution_count": 42,
   "metadata": {},
   "outputs": [
    {
     "name": "stdout",
     "output_type": "stream",
     "text": [
      "[-0.00155052+0.j  0.        +0.j]\n",
      "Mean Ocean Depth using spherical harmonics =  (-0.0015505235245680882+0j)\n"
     ]
    }
   ],
   "source": [
    "oc_dpth = cilm[:,4]\n",
    "#print(oc_dpth)\n",
    "depth = oc_dpth[:,0]\n",
    "print(depth)\n",
    "print('Mean Ocean Depth using spherical harmonics = ', depth[0])"
   ]
  },
  {
   "cell_type": "code",
   "execution_count": null,
   "metadata": {},
   "outputs": [],
   "source": []
  }
 ],
 "metadata": {
  "kernelspec": {
   "display_name": "Python 3",
   "language": "python",
   "name": "python3"
  },
  "language_info": {
   "codemirror_mode": {
    "name": "ipython",
    "version": 3
   },
   "file_extension": ".py",
   "mimetype": "text/x-python",
   "name": "python",
   "nbconvert_exporter": "python",
   "pygments_lexer": "ipython3",
   "version": "3.7.6"
  }
 },
 "nbformat": 4,
 "nbformat_minor": 4
}
